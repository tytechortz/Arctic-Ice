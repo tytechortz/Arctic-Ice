{
 "cells": [
  {
   "cell_type": "code",
   "execution_count": 60,
   "metadata": {},
   "outputs": [],
   "source": [
    "import pandas as pd\n",
    "\n"
   ]
  },
  {
   "cell_type": "code",
   "execution_count": 75,
   "metadata": {},
   "outputs": [],
   "source": [
    "df = pd.read_csv('N_seaice_extent_daily_v3.0.csv',\n",
    "                 skiprows=[i for i in range(1,2436)],\n",
    "                usecols=[\"Year\", \" Month\", \" Day\", \"     Extent\"])"
   ]
  },
  {
   "cell_type": "code",
   "execution_count": 71,
   "metadata": {},
   "outputs": [
    {
     "name": "stdout",
     "output_type": "stream",
     "text": [
      "   Year   Month   Day       Extent      Missing  \\\n",
      "0  1990       1     1       14.319          0.0   \n",
      "1  1990       1     2       14.384          0.0   \n",
      "2  1990       1     3       14.283          0.0   \n",
      "3  1990       1     4       14.321          0.0   \n",
      "4  1990       1     5       14.303          0.0   \n",
      "\n",
      "                                         Source Data  \n",
      "0   ['ftp://sidads.colorado.edu/pub/DATASETS/nsid...  \n",
      "1   ['ftp://sidads.colorado.edu/pub/DATASETS/nsid...  \n",
      "2   ['ftp://sidads.colorado.edu/pub/DATASETS/nsid...  \n",
      "3   ['ftp://sidads.colorado.edu/pub/DATASETS/nsid...  \n",
      "4   ['ftp://sidads.colorado.edu/pub/DATASETS/nsid...  \n"
     ]
    }
   ],
   "source": [
    "print(df.head())"
   ]
  },
  {
   "cell_type": "code",
   "execution_count": 76,
   "metadata": {},
   "outputs": [
    {
     "data": {
      "text/plain": [
       "['Year', ' Month', ' Day', '     Extent', '    Missing', ' Source Data']"
      ]
     },
     "execution_count": 76,
     "metadata": {},
     "output_type": "execute_result"
    }
   ],
   "source": [
    "list(df.columns.values)"
   ]
  },
  {
   "cell_type": "code",
   "execution_count": null,
   "metadata": {},
   "outputs": [],
   "source": []
  }
 ],
 "metadata": {
  "kernelspec": {
   "display_name": "Python 3",
   "language": "python",
   "name": "python3"
  },
  "language_info": {
   "codemirror_mode": {
    "name": "ipython",
    "version": 3
   },
   "file_extension": ".py",
   "mimetype": "text/x-python",
   "name": "python",
   "nbconvert_exporter": "python",
   "pygments_lexer": "ipython3",
   "version": "3.7.3"
  }
 },
 "nbformat": 4,
 "nbformat_minor": 2
}
