{
 "cells": [
  {
   "cell_type": "code",
   "execution_count": 49,
   "metadata": {},
   "outputs": [
    {
     "data": {
      "text/plain": [
       "'230 Anonymous user logged in'"
      ]
     },
     "execution_count": 49,
     "metadata": {},
     "output_type": "execute_result"
    }
   ],
   "source": [
    "from ftplib import FTP\n",
    "\n",
    "ftp = FTP('sidads.colorado.edu')\n",
    "# ftp = FTP('ftp.cse.buffalo.edu')\n",
    "ftp.login(user='anonymous', passwd='jmswank7@gmail.com')\n",
    "ftp.login()\n"
   ]
  },
  {
   "cell_type": "code",
   "execution_count": 51,
   "metadata": {},
   "outputs": [
    {
     "data": {
      "text/plain": [
       "'250 OK. Current directory is /pub/DATASETS/NOAA/G02135/north/daily/data'"
      ]
     },
     "execution_count": 51,
     "metadata": {},
     "output_type": "execute_result"
    }
   ],
   "source": [
    "ftp.cwd('/pub/DATASETS/NOAA/G02135/north/daily/data/')"
   ]
  },
  {
   "cell_type": "code",
   "execution_count": 45,
   "metadata": {},
   "outputs": [
    {
     "name": "stdout",
     "output_type": "stream",
     "text": [
      "File List:\n"
     ]
    }
   ],
   "source": [
    "print(\"File List:\")"
   ]
  },
  {
   "cell_type": "code",
   "execution_count": 52,
   "metadata": {},
   "outputs": [
    {
     "name": "stdout",
     "output_type": "stream",
     "text": [
      "drwxr-xr-x    2 500        9474                5 Aug 20 06:44 .\n",
      "drwxr-xr-x    6 500        9474                6 Aug 16  2017 ..\n",
      "-rw-r--r--    1 500        510             34520 Aug  1 08:31 N_seaice_extent_climatology_1981-2010_v3.0.csv\n",
      "-rw-r--r--    1 500        510           2286774 Aug 20 06:44 N_seaice_extent_daily_v3.0.csv\n",
      "-rw-r--r--    1 500        510           2271812 Aug  1 08:31 N_seaice_extent_daily_v3.0.csv.bak\n"
     ]
    }
   ],
   "source": [
    "files = ftp.dir()"
   ]
  },
  {
   "cell_type": "code",
   "execution_count": 53,
   "metadata": {},
   "outputs": [
    {
     "data": {
      "text/plain": [
       "'226-File successfully transferred\\n226 0.717 seconds (measured here), 3.04 Mbytes per second'"
      ]
     },
     "execution_count": 53,
     "metadata": {},
     "output_type": "execute_result"
    }
   ],
   "source": [
    "ftp.retrbinary('RETR N_seaice_extent_daily_v3.0.csv', open('N_seaice_extent_daily_v3.0.csv', 'wb').write)\n",
    "\n",
    "\n",
    "\n"
   ]
  },
  {
   "cell_type": "code",
   "execution_count": null,
   "metadata": {},
   "outputs": [],
   "source": [
    "ftp.quit()"
   ]
  }
 ],
 "metadata": {
  "kernelspec": {
   "display_name": "Python 3",
   "language": "python",
   "name": "python3"
  },
  "language_info": {
   "codemirror_mode": {
    "name": "ipython",
    "version": 3
   },
   "file_extension": ".py",
   "mimetype": "text/x-python",
   "name": "python",
   "nbconvert_exporter": "python",
   "pygments_lexer": "ipython3",
   "version": "3.7.3"
  }
 },
 "nbformat": 4,
 "nbformat_minor": 2
}
